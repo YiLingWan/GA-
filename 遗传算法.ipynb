{
 "cells": [
  {
   "cell_type": "code",
   "execution_count": 10,
   "metadata": {},
   "outputs": [],
   "source": [
    "import numpy as np\n",
    "import pandas as pd\n",
    "import random\n",
    "import math"
   ]
  },
  {
   "cell_type": "code",
   "execution_count": 11,
   "metadata": {},
   "outputs": [],
   "source": [
    "#需要17位2进制的编码 因为至少需要划分为90000等分"
   ]
  },
  {
   "cell_type": "code",
   "execution_count": 14,
   "metadata": {},
   "outputs": [],
   "source": [
    "def en_code():   #编码\n",
    "    return [random.randint(0,1) for _ in range(17)]\n",
    "\n",
    "def de_code(x):    #解码\n",
    "    x=sum([x[i]*2**i for i in range(len(x))])\n",
    "    return x/(2**17-1)*9\n",
    "\n",
    "# #计算  x+10sin(5x)+7cos(4x)\n",
    "def fitness(x):   #计算基因（x）适应度\n",
    "    x=de_code(x)\n",
    "    return x+10*math.sin(5*x)+7*math.cos(4*x)\n",
    "\n",
    "def select(x):  #选择（轮盘赌法）x:传入的基因组\n",
    "    s=0\n",
    "    for i in x:\n",
    "        s+=abs(fitness(i))         #计算总的适应值用于当分母便于计算概率\n",
    "    wheel=[fitness(x[0])/s]\n",
    "    for i in range(1,len(x)):\n",
    "        wheel.append(fitness(x[i])/s+wheel[i-1])    #生成轮盘\n",
    "    gene=[]\n",
    "    for _ in range(int(len(x)/2)):            #轮盘赌方式选择一半的基因\n",
    "        r=random.random()                      #轮盘指针\n",
    "        for i in range(len(x)):\n",
    "            if i==0:\n",
    "                if r<wheel[i]:\n",
    "                    gene.append(x[i])\n",
    "            else:\n",
    "                if r>wheel[i-1] and r<wheel[i]:\n",
    "                    gene.append(x[i])\n",
    "    if random.random()<0.7:             #基因按照0.7的概率交叉\n",
    "        gene[0][10:],gene[1][10:]=gene[1][10:],gene[0][10:]\n",
    "    return gene\n",
    "    \n",
    "def mutation(x):  #变异基因（x）的第10位\n",
    "    if random.random()<0.01:\n",
    "        x[-1][9]=(x[-1][9]+1)%2\n",
    "    else:\n",
    "        return x\n",
    "    \n",
    "def ini_pop(n):  #生成n个种群\n",
    "    pop=[]\n",
    "    for _ in range(n):\n",
    "        pop.append(en_code())\n",
    "    return pop"
   ]
  },
  {
   "cell_type": "code",
   "execution_count": 13,
   "metadata": {
    "scrolled": true
   },
   "outputs": [
    {
     "name": "stdout",
     "output_type": "stream",
     "text": [
      "最大适应度:24.854649 对应点为7.854758\n"
     ]
    }
   ],
   "source": [
    "new=select(ini_pop(500))\n",
    "new=mutation(new)\n",
    "fit=[]\n",
    "for i in new:\n",
    "    fit.append(fitness(i))\n",
    "print('最大适应度:%f 对应点为%f'%(max(fit),de_code(new[fit.index(max(fit))])))"
   ]
  },
  {
   "cell_type": "code",
   "execution_count": null,
   "metadata": {},
   "outputs": [],
   "source": []
  }
 ],
 "metadata": {
  "kernelspec": {
   "display_name": "Python 3",
   "language": "python",
   "name": "python3"
  },
  "language_info": {
   "codemirror_mode": {
    "name": "ipython",
    "version": 3
   },
   "file_extension": ".py",
   "mimetype": "text/x-python",
   "name": "python",
   "nbconvert_exporter": "python",
   "pygments_lexer": "ipython3",
   "version": "3.7.1"
  }
 },
 "nbformat": 4,
 "nbformat_minor": 2
}
